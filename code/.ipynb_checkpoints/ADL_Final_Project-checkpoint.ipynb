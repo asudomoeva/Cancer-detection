{
 "cells": [
  {
   "cell_type": "markdown",
   "metadata": {
    "colab_type": "text",
    "id": "5UrGSsuE_-pI"
   },
   "source": [
    "# Final Deliverables \n",
    "● Video: a 10 minute YouTube video explaining your project / the key pieces of code / experiments you ran / and results. Should contain slides + code walkthrough.\n",
    "● Complete code: either a Jupyter notebook that runs end-to-end on Colab, or a zip including source, a README, and a shell script to run it. Please include a saved model as well.\n",
    "\n",
    "# Code\n",
    "\n",
    "● Train a model using a subset of the training data from CAMELYON16.\n",
    "\n",
    "● Include a script to run it on a testing image and generate a heatmap (note:\n",
    "you do not need to create a 100,000 x 100,000 heatmap -- use a much lower\n",
    "resolution).\n",
    "\n",
    "# Results\n",
    "● Design a thoughtful evaluation method, and include the results on at least\n",
    "three images from the testing set.\n",
    "\n",
    "● Include a saved, trained version of your model with your submission.\n",
    "\n",
    "# Tips\n",
    "\n",
    "●  “We surprisingly found that slimmed-down Inception architectures with only 3% of the parameters achieved similar performance to the full version”\n",
    "\n",
    "● Authors found that using a pretrained model on ImageNet ultimately hurt accuracy (Why? Pathology images do not match the natural images from ImageNet) -- but -- it improved convergence speed. This is a good place to start. Try transfer learning\n",
    "and/or fine-tuning.\n",
    "\n",
    "● Start with a low zoom level (much smaller images), a simple model, and a small amount of data.\n",
    "\n",
    "● Implement an end-to-end prototype (training data in -> heatmap on a test image out), then slowly scale up.\n",
    "\n",
    "● Begin with transfer learning from a model trained on ImageNet, then fine-tuning, then consider training a model from scratch. Only after this is working end-to-end, consider data augmentation, using higher zooms,\n",
    "etc."
   ]
  },
  {
   "cell_type": "markdown",
   "metadata": {
    "colab_type": "text",
    "id": "eojNb92c0o1y"
   },
   "source": [
    "## Setup"
   ]
  },
  {
   "cell_type": "code",
   "execution_count": null,
   "metadata": {
    "colab": {
     "base_uri": "https://localhost:8080/",
     "height": 697
    },
    "colab_type": "code",
    "id": "HJ_T09jo5rxS",
    "outputId": "1a4029ec-6e12-42a0-8920-b591a1160c5e"
   },
   "outputs": [],
   "source": [
    "# Install the OpenSlide C library and Python bindings\n",
    "!apt-get install openslide-tools\n",
    "!pip install openslide-python\n"
   ]
  },
  {
   "cell_type": "code",
   "execution_count": 7,
   "metadata": {},
   "outputs": [
    {
     "name": "stdout",
     "output_type": "stream",
     "text": [
      "\n",
      "The following command must be run outside of the IPython shell:\n",
      "\n",
      "    $ pip install --upgrade pip\n",
      "\n",
      "The Python package manager (pip) can only be used from outside of IPython.\n",
      "Please reissue the `pip` command in a separate terminal or command prompt.\n",
      "\n",
      "See the Python documentation for more informations on how to install packages:\n",
      "\n",
      "    https://docs.python.org/3/installing/\n"
     ]
    }
   ],
   "source": [
    "pip install --upgrade pip"
   ]
  },
  {
   "cell_type": "code",
   "execution_count": 6,
   "metadata": {},
   "outputs": [
    {
     "name": "stdout",
     "output_type": "stream",
     "text": [
      "\u001b[31mmxnet-cu80 1.1.0.post0 has requirement numpy<1.15.0,>=1.8.2, but you'll have numpy 1.16.3 which is incompatible.\u001b[0m\n",
      "\u001b[31mCould not install packages due to an EnvironmentError: [Errno 13] Permission denied: '/usr/local/anaconda/lib/python3.6/site-packages/numpy-1.15.4.dist-info/INSTALLER'\n",
      "Consider using the `--user` option or check the permissions.\n",
      "\u001b[0m\n",
      "\u001b[33mYou are using pip version 10.0.1, however version 19.1.1 is available.\n",
      "You should consider upgrading via the 'pip install --upgrade pip' command.\u001b[0m\n"
     ]
    }
   ],
   "source": [
    "!pip install --upgrade py4j==0.10.4 absl-py>=0.4 numpy"
   ]
  },
  {
   "cell_type": "code",
   "execution_count": 2,
   "metadata": {
    "scrolled": true
   },
   "outputs": [
    {
     "name": "stdout",
     "output_type": "stream",
     "text": [
      "Name: tensorflow\n",
      "Version: 1.13.1\n",
      "Summary: TensorFlow is an open source machine learning framework for everyone.\n",
      "Home-page: https://www.tensorflow.org/\n",
      "Author: Google Inc.\n",
      "Author-email: opensource@google.com\n",
      "License: Apache 2.0\n",
      "Location: /usr/local/anaconda/lib/python3.6/site-packages\n",
      "Requires: astor, keras-preprocessing, absl-py, termcolor, gast, keras-applications, protobuf, grpcio, tensorflow-estimator, numpy, tensorboard, six, wheel\n",
      "Required-by: \n",
      "\u001b[33mYou are using pip version 10.0.1, however version 19.1.1 is available.\n",
      "You should consider upgrading via the 'pip install --upgrade pip' command.\u001b[0m\n"
     ]
    }
   ],
   "source": [
    "!pip show tensorflow"
   ]
  },
  {
   "cell_type": "code",
   "execution_count": 6,
   "metadata": {
    "colab": {},
    "colab_type": "code",
    "id": "Ws_fS_f13WUd"
   },
   "outputs": [
    {
     "ename": "ModuleNotFoundError",
     "evalue": "No module named 'tensorflow.keras'",
     "output_type": "error",
     "traceback": [
      "\u001b[0;31m---------------------------------------------------------------------------\u001b[0m",
      "\u001b[0;31mModuleNotFoundError\u001b[0m                       Traceback (most recent call last)",
      "\u001b[0;32m<ipython-input-6-d492ce81e884>\u001b[0m in \u001b[0;36m<module>\u001b[0;34m()\u001b[0m\n\u001b[1;32m     16\u001b[0m \u001b[0;31m#from tensorflow.keras.applications import VGG16, InceptionV3, VGG19, ResNet50\u001b[0m\u001b[0;34m\u001b[0m\u001b[0;34m\u001b[0m\u001b[0m\n\u001b[1;32m     17\u001b[0m \u001b[0;31m#from tensorflow.keras.layers import Conv2D, Dense, Dropout, Flatten, MaxPooling2D\u001b[0m\u001b[0;34m\u001b[0m\u001b[0;34m\u001b[0m\u001b[0m\n\u001b[0;32m---> 18\u001b[0;31m \u001b[0;32mfrom\u001b[0m \u001b[0mtensorflow\u001b[0m\u001b[0;34m.\u001b[0m\u001b[0mkeras\u001b[0m\u001b[0;34m.\u001b[0m\u001b[0mmodels\u001b[0m \u001b[0;32mimport\u001b[0m \u001b[0mSequential\u001b[0m\u001b[0;34m\u001b[0m\u001b[0m\n\u001b[0m",
      "\u001b[0;31mModuleNotFoundError\u001b[0m: No module named 'tensorflow.keras'"
     ]
    }
   ],
   "source": [
    "%matplotlib inline\n",
    "import matplotlib.pyplot as plt\n",
    "import numpy as np\n",
    "from openslide import open_slide, __library_version__ as openslide_version\n",
    "import os\n",
    "from PIL import Image\n",
    "from skimage.color import rgb2gray\n",
    "import re\n",
    "from sklearn.model_selection import train_test_split\n",
    "#from imblearn.over_sampling import RandomOverSampler\n",
    "from sklearn.metrics import roc_auc_score\n",
    "\n",
    "import tensorflow as tf\n",
    "#from tensorflow import keras\n",
    "#from tensorflow.keras.applications import VGG16, InceptionV3, VGG19, ResNet50\n",
    "#from tensorflow.keras.layers import Conv2D, Dense, Dropout, Flatten, MaxPooling2D\n",
    "from tensorflow.keras.models import Sequential"
   ]
  },
  {
   "cell_type": "code",
   "execution_count": 7,
   "metadata": {},
   "outputs": [
    {
     "name": "stdout",
     "output_type": "stream",
     "text": [
      "1.4.0\n"
     ]
    }
   ],
   "source": [
    "# TensorFlow and tf.keras\n",
    "import tensorflow as tf\n",
    "from tensorflow import keras\n",
    "\n",
    "# Helper libraries\n",
    "import numpy as np\n",
    "import matplotlib.pyplot as plt\n",
    "\n",
    "print(tf.__version__)"
   ]
  },
  {
   "cell_type": "code",
   "execution_count": null,
   "metadata": {
    "collapsed": true
   },
   "outputs": [],
   "source": []
  },
  {
   "cell_type": "code",
   "execution_count": 8,
   "metadata": {},
   "outputs": [
    {
     "ename": "ModuleNotFoundError",
     "evalue": "No module named 'tensorflow.keras'",
     "output_type": "error",
     "traceback": [
      "\u001b[0;31m---------------------------------------------------------------------------\u001b[0m",
      "\u001b[0;31mModuleNotFoundError\u001b[0m                       Traceback (most recent call last)",
      "\u001b[0;32m<ipython-input-8-a80bf9ede5d5>\u001b[0m in \u001b[0;36m<module>\u001b[0;34m()\u001b[0m\n\u001b[1;32m      1\u001b[0m \u001b[0;31m#from tensorflow.keras.applications import VGG16, InceptionV3, VGG19, ResNet50\u001b[0m\u001b[0;34m\u001b[0m\u001b[0;34m\u001b[0m\u001b[0m\n\u001b[1;32m      2\u001b[0m \u001b[0;31m#from tensorflow.keras.layers import Conv2D, Dense, Dropout, Flatten, MaxPooling2D\u001b[0m\u001b[0;34m\u001b[0m\u001b[0;34m\u001b[0m\u001b[0m\n\u001b[0;32m----> 3\u001b[0;31m \u001b[0;32mfrom\u001b[0m \u001b[0mtensorflow\u001b[0m\u001b[0;34m.\u001b[0m\u001b[0mkeras\u001b[0m\u001b[0;34m.\u001b[0m\u001b[0mmodels\u001b[0m \u001b[0;32mimport\u001b[0m \u001b[0mSequential\u001b[0m\u001b[0;34m\u001b[0m\u001b[0m\n\u001b[0m",
      "\u001b[0;31mModuleNotFoundError\u001b[0m: No module named 'tensorflow.keras'"
     ]
    }
   ],
   "source": [
    "#from tensorflow.keras.applications import VGG16, InceptionV3, VGG19, ResNet50\n",
    "#from tensorflow.keras.layers import Conv2D, Dense, Dropout, Flatten, MaxPooling2D\n",
    "from tensorflow.keras.models import Sequential"
   ]
  },
  {
   "cell_type": "code",
   "execution_count": 6,
   "metadata": {
    "colab": {
     "base_uri": "https://localhost:8080/",
     "height": 34
    },
    "colab_type": "code",
    "id": "A3DyBWJL02Li",
    "outputId": "248cdf19-a288-43aa-b2f7-4a32baf80560"
   },
   "outputs": [
    {
     "name": "stdout",
     "output_type": "stream",
     "text": [
      "Mounted at /content/gdrive\n"
     ]
    }
   ],
   "source": [
    "from google.colab import drive\n",
    "drive.mount('/content/gdrive', force_remount=True)"
   ]
  },
  {
   "cell_type": "code",
   "execution_count": 13,
   "metadata": {
    "colab": {
     "base_uri": "https://localhost:8080/",
     "height": 85
    },
    "colab_type": "code",
    "id": "3jMaLh8N1g5x",
    "outputId": "53254cb2-b46b-481b-b4a5-b18db94bac19"
   },
   "outputs": [
    {
     "name": "stdout",
     "output_type": "stream",
     "text": [
      "/content/gdrive/My Drive\n",
      "True\n",
      "/content/gdrive/My Drive/slides\n",
      "True\n"
     ]
    }
   ],
   "source": [
    "import os\n",
    "import pandas as pd\n",
    "\n",
    "MY_DRIVE_DIR = '/content/gdrive/My Drive'\n",
    "#SLIDES_DIR = os.path.join(MY_DRIVE_DIR, 'Deep Learning class/slides') # changing the path for readibility used to be #slide_data\n",
    "SLIDES_DIR = os.path.join(MY_DRIVE_DIR, 'slides') # changing the path for readibility used to be #slide_data\n",
    "\n",
    "print(MY_DRIVE_DIR)\n",
    "print(os.path.exists(MY_DRIVE_DIR))\n",
    "print(SLIDES_DIR)\n",
    "print(os.path.exists(SLIDES_DIR))"
   ]
  },
  {
   "cell_type": "markdown",
   "metadata": {
    "colab_type": "text",
    "id": "RYreYUDxudip"
   },
   "source": [
    "Start by creating reference list for all of our data."
   ]
  },
  {
   "cell_type": "code",
   "execution_count": 0,
   "metadata": {
    "colab": {},
    "colab_type": "code",
    "collapsed": true,
    "id": "asOQHHfVuh-T"
   },
   "outputs": [],
   "source": [
    "#images_references = !ls 'gdrive/My Drive/Deep Learning class/slides'\n",
    "images_references = !ls 'gdrive/My Drive/slides'"
   ]
  },
  {
   "cell_type": "markdown",
   "metadata": {
    "colab_type": "text",
    "id": "XemsbMTZ1XF4"
   },
   "source": [
    "There is a tumor '099' that only has an 'xml' file. Therefore, we would be dropping that from the list. tumor '038' also has some data issues (missing mask)"
   ]
  },
  {
   "cell_type": "code",
   "execution_count": 20,
   "metadata": {
    "colab": {
     "base_uri": "https://localhost:8080/",
     "height": 374
    },
    "colab_type": "code",
    "id": "q3_7TNlavXAD",
    "outputId": "4345021f-e44c-4513-9687-354c1f85d539"
   },
   "outputs": [
    {
     "data": {
      "text/plain": [
       "['tumor_059',\n",
       " 'tumor_094',\n",
       " 'tumor_023',\n",
       " 'tumor_064',\n",
       " 'tumor_096',\n",
       " 'tumor_001',\n",
       " 'tumor_057',\n",
       " 'tumor_110',\n",
       " 'tumor_016',\n",
       " 'tumor_012',\n",
       " 'tumor_084',\n",
       " 'tumor_035',\n",
       " 'tumor_019',\n",
       " 'tumor_081',\n",
       " 'tumor_078',\n",
       " 'tumor_091',\n",
       " 'tumor_002',\n",
       " 'tumor_075',\n",
       " 'tumor_005',\n",
       " 'tumor_031',\n",
       " 'tumor_101']"
      ]
     },
     "execution_count": 20,
     "metadata": {
      "tags": []
     },
     "output_type": "execute_result"
    }
   ],
   "source": [
    "# saving image paths into a list\n",
    "image_names = []\n",
    "for images in images_references:\n",
    "    img = re.findall(r'tumor_\\d\\d\\d', images)\n",
    "    for i in img:\n",
    "      if i != 'tumor_099' and i != 'tumor_038': # ignoring tumor99 and tumor 38\n",
    "        image_names.append(i)\n",
    "image_names = list(set(image_names))\n",
    "image_names"
   ]
  },
  {
   "cell_type": "markdown",
   "metadata": {
    "colab_type": "text",
    "id": "88Z0hKpL0U9e"
   },
   "source": [
    "## Defining Helper Functions"
   ]
  },
  {
   "cell_type": "code",
   "execution_count": 0,
   "metadata": {
    "colab": {},
    "colab_type": "code",
    "collapsed": true,
    "id": "L5NVdw7g2jGb"
   },
   "outputs": [],
   "source": [
    "def is_tissue_in_window(window, intensity=0.8):\n",
    "    im_gray = rgb2gray(window)\n",
    "    x_indices = np.where(im_gray <= intensity)[0]\n",
    "    return len(x_indices) > 0\n",
    "\n",
    "def read_slide(slide, x, y, level, width, height, as_float=False):\n",
    "    im = slide.read_region((x,y), level, (width, height))\n",
    "    im = im.convert('RGB') # drop the alpha channel\n",
    "    if as_float:\n",
    "        im = np.asarray(im, dtype=np.float32)\n",
    "    else:\n",
    "        im = np.asarray(im)\n",
    "    assert im.shape == (height, width, 3)\n",
    "    return im\n",
    "\n",
    "def create_dataset(level, image_names):\n",
    "    #creating lists for final data and labels\n",
    "    data = []\n",
    "    labels = []\n",
    "    for image_name in image_names:\n",
    "        #reading in the slides and masks B@ODW\n",
    "        slide_path = os.path.join(SLIDES_DIR, image_name+'.tif')\n",
    "        tumor_mask_path =  os.path.join(SLIDES_DIR, image_name+'_mask.tif')\n",
    "\n",
    "        #opening them\n",
    "        slide = open_slide(slide_path)\n",
    "        tumor_mask = open_slide(tumor_mask_path)\n",
    "\n",
    "        #dimensions at chosen level\n",
    "        x_max = slide.level_dimensions[level][0]\n",
    "        y_max = slide.level_dimensions[level][1] \n",
    "\n",
    "        #sanity check  \n",
    "        assert tumor_mask.level_dimensions[level][0] == x_max\n",
    "        assert tumor_mask.level_dimensions[level][1] == y_max\n",
    "\n",
    "        # choosing downsample factor\n",
    "        downsample_factor = int(slide.level_downsamples[level])\n",
    "\n",
    "        #initiatize coordinates\n",
    "        x0 = 0 #int(.05*x_max) possibility to create padding\n",
    "        y0 = 0 #int(.05*y_max) possibility to create padding\n",
    "\n",
    "        #size of window\n",
    "        x_dim, y_dim = 299., 299.\n",
    "        size = (int(x_dim), int(y_dim))\n",
    "\n",
    "        #calculate how many steps we can take with 299x299 window\n",
    "        x_steps, y_steps = int(((x_max-x0) / x_dim)-1), int(((y_max-y0) / y_dim)-1)\n",
    "\n",
    "        for i in range(x_steps):\n",
    "            for j in range(y_steps): \n",
    "                #generating a window from the original slide\n",
    "                window = read_slide(slide, \n",
    "                                 x=int(x0)*downsample_factor, \n",
    "                                 y=int(y0)*downsample_factor, \n",
    "                                 level=level, \n",
    "                                 width=int(x_dim), \n",
    "                                 height=int(y_dim))\n",
    "                #conducting sanity check\n",
    "                assert window.shape == (x_dim, y_dim, 3)\n",
    "\n",
    "                #if window contains tissue, append to train\n",
    "                if is_tissue_in_window(window) is True:\n",
    "                    #continue # No tissue in this window, don't add to train or test\n",
    "                    data.append(window)\n",
    "                    # read the tumor mask view that corresponds to the window\n",
    "                    window_mask = read_slide(tumor_mask, \n",
    "                                     x=int(x0)*downsample_factor, \n",
    "                                     y=int(y0)*downsample_factor, \n",
    "                                     level=level, \n",
    "                                     width=int(x_dim), \n",
    "                                     height=int(y_dim))[:,:,0]\n",
    "\n",
    "                    #if window contains cancer, append 1 to labels; else 0\n",
    "                    if np.count_nonzero(window_mask.flatten()) > 0:\n",
    "                        labels.append(1)\n",
    "                    else:\n",
    "                        labels.append(0)\n",
    "\n",
    "                #move the sliding window on y axis\n",
    "                y0 = y0 + y_dim\n",
    "\n",
    "            #move the sliding window on x axis\n",
    "            x0 = x0 + x_dim\n",
    "            # reset y0 to start\n",
    "            y0 = 0 #int(.05*y_max) if using padding\n",
    "\n",
    "    return data, labels\n"
   ]
  },
  {
   "cell_type": "markdown",
   "metadata": {
    "colab_type": "text",
    "id": "w9FEuM6gIRwK"
   },
   "source": [
    "## Preprocessing"
   ]
  },
  {
   "cell_type": "markdown",
   "metadata": {
    "colab_type": "text",
    "id": "F3MTN_Np9gDQ"
   },
   "source": [
    "Creating the dataset and labels at level 5. There is room for conversation to be had around how to approach the imbalanced dataset. Random oversampling might not be the best choice. We might want to consider using class_weight='balanced' (if possible to use with deep learning models)."
   ]
  },
  {
   "cell_type": "markdown",
   "metadata": {
    "colab_type": "text",
    "id": "I7mrk_54LiSb"
   },
   "source": [
    "### Train/test split"
   ]
  },
  {
   "cell_type": "code",
   "execution_count": 23,
   "metadata": {
    "colab": {
     "base_uri": "https://localhost:8080/",
     "height": 426
    },
    "colab_type": "code",
    "id": "_ljOOGPWIr2V",
    "outputId": "c25b66f4-d61a-463b-d568-0c5a1698dcaa"
   },
   "outputs": [
    {
     "ename": "OSError",
     "evalue": "ignored",
     "output_type": "error",
     "traceback": [
      "\u001b[0;31m---------------------------------------------------------------------------\u001b[0m",
      "\u001b[0;31mOpenSlideUnsupportedFormatError\u001b[0m           Traceback (most recent call last)",
      "\u001b[0;32m/usr/local/lib/python3.6/dist-packages/openslide/__init__.py\u001b[0m in \u001b[0;36mopen_slide\u001b[0;34m(filename)\u001b[0m\n\u001b[1;32m    381\u001b[0m     \u001b[0;32mtry\u001b[0m\u001b[0;34m:\u001b[0m\u001b[0;34m\u001b[0m\u001b[0;34m\u001b[0m\u001b[0m\n\u001b[0;32m--> 382\u001b[0;31m         \u001b[0;32mreturn\u001b[0m \u001b[0mOpenSlide\u001b[0m\u001b[0;34m(\u001b[0m\u001b[0mfilename\u001b[0m\u001b[0;34m)\u001b[0m\u001b[0;34m\u001b[0m\u001b[0;34m\u001b[0m\u001b[0m\n\u001b[0m\u001b[1;32m    383\u001b[0m     \u001b[0;32mexcept\u001b[0m \u001b[0mOpenSlideUnsupportedFormatError\u001b[0m\u001b[0;34m:\u001b[0m\u001b[0;34m\u001b[0m\u001b[0;34m\u001b[0m\u001b[0m\n",
      "\u001b[0;32m/usr/local/lib/python3.6/dist-packages/openslide/__init__.py\u001b[0m in \u001b[0;36m__init__\u001b[0;34m(self, filename)\u001b[0m\n\u001b[1;32m    153\u001b[0m         \u001b[0mself\u001b[0m\u001b[0;34m.\u001b[0m\u001b[0m_filename\u001b[0m \u001b[0;34m=\u001b[0m \u001b[0mfilename\u001b[0m\u001b[0;34m\u001b[0m\u001b[0;34m\u001b[0m\u001b[0m\n\u001b[0;32m--> 154\u001b[0;31m         \u001b[0mself\u001b[0m\u001b[0;34m.\u001b[0m\u001b[0m_osr\u001b[0m \u001b[0;34m=\u001b[0m \u001b[0mlowlevel\u001b[0m\u001b[0;34m.\u001b[0m\u001b[0mopen\u001b[0m\u001b[0;34m(\u001b[0m\u001b[0mfilename\u001b[0m\u001b[0;34m)\u001b[0m\u001b[0;34m\u001b[0m\u001b[0;34m\u001b[0m\u001b[0m\n\u001b[0m\u001b[1;32m    155\u001b[0m \u001b[0;34m\u001b[0m\u001b[0m\n",
      "\u001b[0;32m/usr/local/lib/python3.6/dist-packages/openslide/lowlevel.py\u001b[0m in \u001b[0;36m_check_open\u001b[0;34m(result, _func, _args)\u001b[0m\n\u001b[1;32m    173\u001b[0m         raise OpenSlideUnsupportedFormatError(\n\u001b[0;32m--> 174\u001b[0;31m                 \"Unsupported or missing image file\")\n\u001b[0m\u001b[1;32m    175\u001b[0m     \u001b[0mslide\u001b[0m \u001b[0;34m=\u001b[0m \u001b[0m_OpenSlide\u001b[0m\u001b[0;34m(\u001b[0m\u001b[0mc_void_p\u001b[0m\u001b[0;34m(\u001b[0m\u001b[0mresult\u001b[0m\u001b[0;34m)\u001b[0m\u001b[0;34m)\u001b[0m\u001b[0;34m\u001b[0m\u001b[0;34m\u001b[0m\u001b[0m\n",
      "\u001b[0;31mOpenSlideUnsupportedFormatError\u001b[0m: Unsupported or missing image file",
      "\nDuring handling of the above exception, another exception occurred:\n",
      "\u001b[0;31mOSError\u001b[0m                                   Traceback (most recent call last)",
      "\u001b[0;32m<ipython-input-23-f7a098d74e02>\u001b[0m in \u001b[0;36m<module>\u001b[0;34m()\u001b[0m\n\u001b[0;32m----> 1\u001b[0;31m \u001b[0mdata_5\u001b[0m\u001b[0;34m,\u001b[0m \u001b[0mlabels_5\u001b[0m \u001b[0;34m=\u001b[0m  \u001b[0mcreate_dataset\u001b[0m\u001b[0;34m(\u001b[0m\u001b[0;36m8\u001b[0m\u001b[0;34m,\u001b[0m \u001b[0mimage_names\u001b[0m\u001b[0;34m)\u001b[0m\u001b[0;34m\u001b[0m\u001b[0;34m\u001b[0m\u001b[0m\n\u001b[0m\u001b[1;32m      2\u001b[0m \u001b[0;31m#should we rescale the dataset?\u001b[0m\u001b[0;34m\u001b[0m\u001b[0;34m\u001b[0m\u001b[0;34m\u001b[0m\u001b[0m\n\u001b[1;32m      3\u001b[0m \u001b[0mdata_5\u001b[0m \u001b[0;34m=\u001b[0m \u001b[0mnp\u001b[0m\u001b[0;34m.\u001b[0m\u001b[0masarray\u001b[0m\u001b[0;34m(\u001b[0m\u001b[0mdata_5\u001b[0m\u001b[0;34m)\u001b[0m \u001b[0;34m/\u001b[0m \u001b[0;36m255.0\u001b[0m\u001b[0;34m\u001b[0m\u001b[0;34m\u001b[0m\u001b[0m\n\u001b[1;32m      4\u001b[0m \u001b[0mX_train\u001b[0m\u001b[0;34m,\u001b[0m \u001b[0mX_test\u001b[0m\u001b[0;34m,\u001b[0m \u001b[0my_train\u001b[0m\u001b[0;34m,\u001b[0m \u001b[0my_test\u001b[0m \u001b[0;34m=\u001b[0m \u001b[0mtrain_test_split\u001b[0m\u001b[0;34m(\u001b[0m\u001b[0mdata_5\u001b[0m\u001b[0;34m,\u001b[0m \u001b[0mlabels_5\u001b[0m\u001b[0;34m,\u001b[0m \u001b[0mtest_size\u001b[0m\u001b[0;34m=\u001b[0m\u001b[0;36m0.1\u001b[0m\u001b[0;34m,\u001b[0m \u001b[0mrandom_state\u001b[0m\u001b[0;34m=\u001b[0m\u001b[0;36m42\u001b[0m\u001b[0;34m)\u001b[0m\u001b[0;34m\u001b[0m\u001b[0;34m\u001b[0m\u001b[0m\n\u001b[1;32m      5\u001b[0m \u001b[0mprint\u001b[0m\u001b[0;34m(\u001b[0m\u001b[0mnp\u001b[0m\u001b[0;34m.\u001b[0m\u001b[0mbincount\u001b[0m\u001b[0;34m(\u001b[0m\u001b[0my_train\u001b[0m\u001b[0;34m)\u001b[0m\u001b[0;34m)\u001b[0m\u001b[0;34m\u001b[0m\u001b[0;34m\u001b[0m\u001b[0m\n",
      "\u001b[0;32m<ipython-input-21-7c65814d0634>\u001b[0m in \u001b[0;36mcreate_dataset\u001b[0;34m(level, image_names)\u001b[0m\n\u001b[1;32m     24\u001b[0m \u001b[0;34m\u001b[0m\u001b[0m\n\u001b[1;32m     25\u001b[0m         \u001b[0;31m#opening them\u001b[0m\u001b[0;34m\u001b[0m\u001b[0;34m\u001b[0m\u001b[0;34m\u001b[0m\u001b[0m\n\u001b[0;32m---> 26\u001b[0;31m         \u001b[0mslide\u001b[0m \u001b[0;34m=\u001b[0m \u001b[0mopen_slide\u001b[0m\u001b[0;34m(\u001b[0m\u001b[0mslide_path\u001b[0m\u001b[0;34m)\u001b[0m\u001b[0;34m\u001b[0m\u001b[0;34m\u001b[0m\u001b[0m\n\u001b[0m\u001b[1;32m     27\u001b[0m         \u001b[0mtumor_mask\u001b[0m \u001b[0;34m=\u001b[0m \u001b[0mopen_slide\u001b[0m\u001b[0;34m(\u001b[0m\u001b[0mtumor_mask_path\u001b[0m\u001b[0;34m)\u001b[0m\u001b[0;34m\u001b[0m\u001b[0;34m\u001b[0m\u001b[0m\n\u001b[1;32m     28\u001b[0m \u001b[0;34m\u001b[0m\u001b[0m\n",
      "\u001b[0;32m/usr/local/lib/python3.6/dist-packages/openslide/__init__.py\u001b[0m in \u001b[0;36mopen_slide\u001b[0;34m(filename)\u001b[0m\n\u001b[1;32m    382\u001b[0m         \u001b[0;32mreturn\u001b[0m \u001b[0mOpenSlide\u001b[0m\u001b[0;34m(\u001b[0m\u001b[0mfilename\u001b[0m\u001b[0;34m)\u001b[0m\u001b[0;34m\u001b[0m\u001b[0;34m\u001b[0m\u001b[0m\n\u001b[1;32m    383\u001b[0m     \u001b[0;32mexcept\u001b[0m \u001b[0mOpenSlideUnsupportedFormatError\u001b[0m\u001b[0;34m:\u001b[0m\u001b[0;34m\u001b[0m\u001b[0;34m\u001b[0m\u001b[0m\n\u001b[0;32m--> 384\u001b[0;31m         \u001b[0;32mreturn\u001b[0m \u001b[0mImageSlide\u001b[0m\u001b[0;34m(\u001b[0m\u001b[0mfilename\u001b[0m\u001b[0;34m)\u001b[0m\u001b[0;34m\u001b[0m\u001b[0;34m\u001b[0m\u001b[0m\n\u001b[0m\u001b[1;32m    385\u001b[0m \u001b[0;34m\u001b[0m\u001b[0m\n\u001b[1;32m    386\u001b[0m \u001b[0;34m\u001b[0m\u001b[0m\n",
      "\u001b[0;32m/usr/local/lib/python3.6/dist-packages/openslide/__init__.py\u001b[0m in \u001b[0;36m__init__\u001b[0;34m(self, file)\u001b[0m\n\u001b[1;32m    277\u001b[0m         \u001b[0;32melse\u001b[0m\u001b[0;34m:\u001b[0m\u001b[0;34m\u001b[0m\u001b[0;34m\u001b[0m\u001b[0m\n\u001b[1;32m    278\u001b[0m             \u001b[0mself\u001b[0m\u001b[0;34m.\u001b[0m\u001b[0m_close\u001b[0m \u001b[0;34m=\u001b[0m \u001b[0;32mTrue\u001b[0m\u001b[0;34m\u001b[0m\u001b[0;34m\u001b[0m\u001b[0m\n\u001b[0;32m--> 279\u001b[0;31m             \u001b[0mself\u001b[0m\u001b[0;34m.\u001b[0m\u001b[0m_image\u001b[0m \u001b[0;34m=\u001b[0m \u001b[0mImage\u001b[0m\u001b[0;34m.\u001b[0m\u001b[0mopen\u001b[0m\u001b[0;34m(\u001b[0m\u001b[0mfile\u001b[0m\u001b[0;34m)\u001b[0m\u001b[0;34m\u001b[0m\u001b[0;34m\u001b[0m\u001b[0m\n\u001b[0m\u001b[1;32m    280\u001b[0m \u001b[0;34m\u001b[0m\u001b[0m\n\u001b[1;32m    281\u001b[0m     \u001b[0;32mdef\u001b[0m \u001b[0m__repr__\u001b[0m\u001b[0;34m(\u001b[0m\u001b[0mself\u001b[0m\u001b[0;34m)\u001b[0m\u001b[0;34m:\u001b[0m\u001b[0;34m\u001b[0m\u001b[0;34m\u001b[0m\u001b[0m\n",
      "\u001b[0;32m/usr/local/lib/python3.6/dist-packages/PIL/Image.py\u001b[0m in \u001b[0;36mopen\u001b[0;34m(fp, mode)\u001b[0m\n\u001b[1;32m   2537\u001b[0m         \u001b[0mexclusive_fp\u001b[0m \u001b[0;34m=\u001b[0m \u001b[0;32mTrue\u001b[0m\u001b[0;34m\u001b[0m\u001b[0;34m\u001b[0m\u001b[0m\n\u001b[1;32m   2538\u001b[0m \u001b[0;34m\u001b[0m\u001b[0m\n\u001b[0;32m-> 2539\u001b[0;31m     \u001b[0mprefix\u001b[0m \u001b[0;34m=\u001b[0m \u001b[0mfp\u001b[0m\u001b[0;34m.\u001b[0m\u001b[0mread\u001b[0m\u001b[0;34m(\u001b[0m\u001b[0;36m16\u001b[0m\u001b[0;34m)\u001b[0m\u001b[0;34m\u001b[0m\u001b[0;34m\u001b[0m\u001b[0m\n\u001b[0m\u001b[1;32m   2540\u001b[0m \u001b[0;34m\u001b[0m\u001b[0m\n\u001b[1;32m   2541\u001b[0m     \u001b[0mpreinit\u001b[0m\u001b[0;34m(\u001b[0m\u001b[0;34m)\u001b[0m\u001b[0;34m\u001b[0m\u001b[0;34m\u001b[0m\u001b[0m\n",
      "\u001b[0;31mOSError\u001b[0m: [Errno 5] Input/output error"
     ]
    }
   ],
   "source": [
    "data_5, labels_5 =  create_dataset(8, image_names)\n",
    "#should we rescale the dataset?\n",
    "data_5 = np.asarray(data_5) / 255.0\n",
    "X_train, X_test, y_train, y_test = train_test_split(data_5, labels_5, test_size=0.1, random_state=42)\n",
    "print(np.bincount(y_train))"
   ]
  },
  {
   "cell_type": "code",
   "execution_count": 0,
   "metadata": {
    "colab": {},
    "colab_type": "code",
    "collapsed": true,
    "id": "Mzyyldl8KQS4"
   },
   "outputs": [],
   "source": [
    "# managing the imbalanced dataset by oversampling\n",
    "#ros = RandomOverSampler()\n",
    "#X_train_oversample, y_train_oversample = ros.fit_sample(\n",
    "#    X_train, y_train)\n",
    "#print(X_train.shape)\n",
    "#print(X_train_oversample.shape)\n",
    "#print(np.bincount(y_train_oversample))"
   ]
  },
  {
   "cell_type": "code",
   "execution_count": 12,
   "metadata": {
    "colab": {
     "base_uri": "https://localhost:8080/",
     "height": 34
    },
    "colab_type": "code",
    "id": "OXtLEGzVB45f",
    "outputId": "8469ea9e-f906-422c-b628-5b23525a852b"
   },
   "outputs": [
    {
     "data": {
      "text/plain": [
       "0"
      ]
     },
     "execution_count": 12,
     "metadata": {
      "tags": []
     },
     "output_type": "execute_result"
    }
   ],
   "source": [
    "len(data_5)"
   ]
  },
  {
   "cell_type": "markdown",
   "metadata": {
    "colab_type": "text",
    "id": "kaSqAHE6Ll29"
   },
   "source": [
    "### Data augmentation"
   ]
  },
  {
   "cell_type": "code",
   "execution_count": 0,
   "metadata": {
    "colab": {},
    "colab_type": "code",
    "collapsed": true,
    "id": "Di_VOEinLoFt"
   },
   "outputs": [],
   "source": [
    "sample = random.sample(data_5, )"
   ]
  },
  {
   "cell_type": "markdown",
   "metadata": {
    "colab_type": "text",
    "id": "by0-mL7pIOjf"
   },
   "source": [
    "## Modeling"
   ]
  },
  {
   "cell_type": "code",
   "execution_count": 0,
   "metadata": {
    "colab": {},
    "colab_type": "code",
    "collapsed": true,
    "id": "VRUjSvhpeapM"
   },
   "outputs": [],
   "source": [
    "model_dnn = keras.Sequential([\n",
    "    keras.layers.Flatten(input_shape=(299,299,3),\n",
    "    keras.layers.Dense(128, activation=tf.nn.relu),\n",
    "    keras.layers.Dense(128, activation=tf.nn.relu),\n",
    "  \n",
    "    keras.layers.Dense(2, activation=tf.nn.softmax)\n",
    "])"
   ]
  },
  {
   "cell_type": "code",
   "execution_count": 0,
   "metadata": {
    "colab": {},
    "colab_type": "code",
    "collapsed": true,
    "id": "DFQ6M4JUgF9a"
   },
   "outputs": [],
   "source": [
    "model_dnn.compile(optimizer='adam', \n",
    "              loss='binary_crossentropy',\n",
    "              metrics=['accuracy'])"
   ]
  },
  {
   "cell_type": "code",
   "execution_count": 0,
   "metadata": {
    "colab": {
     "base_uri": "https://localhost:8080/",
     "height": 274
    },
    "colab_type": "code",
    "id": "0ShWaWUkPI2T",
    "outputId": "8c724484-6fb5-4941-df28-34f568062b76"
   },
   "outputs": [
    {
     "name": "stdout",
     "output_type": "stream",
     "text": [
      "_________________________________________________________________\n",
      "Layer (type)                 Output Shape              Param #   \n",
      "=================================================================\n",
      "flatten_1 (Flatten)          (None, 784)               0         \n",
      "_________________________________________________________________\n",
      "dense_1 (Dense)              (None, 128)               100480    \n",
      "_________________________________________________________________\n",
      "dense_2 (Dense)              (None, 128)               16512     \n",
      "_________________________________________________________________\n",
      "dense_3 (Dense)              (None, 10)                1290      \n",
      "=================================================================\n",
      "Total params: 118,282\n",
      "Trainable params: 118,282\n",
      "Non-trainable params: 0\n",
      "_________________________________________________________________\n"
     ]
    }
   ],
   "source": [
    "model_dnn.summary()"
   ]
  },
  {
   "cell_type": "code",
   "execution_count": 0,
   "metadata": {
    "colab": {
     "base_uri": "https://localhost:8080/",
     "height": 257
    },
    "colab_type": "code",
    "id": "xx_MkkWDgc0t",
    "outputId": "78aa424d-b59f-40df-e1e3-fa7b1d2ad574"
   },
   "outputs": [
    {
     "name": "stdout",
     "output_type": "stream",
     "text": [
      "Train on 60000 samples, validate on 10000 samples\n",
      "Epoch 1/6\n",
      "60000/60000 [==============================] - 10s 164us/sample - loss: 0.4871 - acc: 0.8243 - val_loss: 0.4061 - val_acc: 0.8574\n",
      "Epoch 2/6\n",
      "60000/60000 [==============================] - 10s 167us/sample - loss: 0.3669 - acc: 0.8654 - val_loss: 0.3707 - val_acc: 0.8643\n",
      "Epoch 3/6\n",
      "60000/60000 [==============================] - 10s 159us/sample - loss: 0.3299 - acc: 0.8771 - val_loss: 0.3813 - val_acc: 0.8607\n",
      "Epoch 4/6\n",
      "60000/60000 [==============================] - 10s 166us/sample - loss: 0.3060 - acc: 0.8863 - val_loss: 0.3610 - val_acc: 0.8670\n",
      "Epoch 5/6\n",
      "60000/60000 [==============================] - 10s 164us/sample - loss: 0.2896 - acc: 0.8923 - val_loss: 0.4118 - val_acc: 0.8479\n",
      "Epoch 6/6\n",
      "60000/60000 [==============================] - 9s 154us/sample - loss: 0.2747 - acc: 0.8964 - val_loss: 0.3363 - val_acc: 0.8777\n"
     ]
    },
    {
     "data": {
      "text/plain": [
       "<tensorflow.python.keras.callbacks.History at 0x7f1f4e286cf8>"
      ]
     },
     "execution_count": 23,
     "metadata": {
      "tags": []
     },
     "output_type": "execute_result"
    }
   ],
   "source": [
    "history_dnn = model_dnn.fit(train_images, train_labels, epochs = 6, validation_data = (test_images, test_labels))\n",
    "history_dnn"
   ]
  },
  {
   "cell_type": "code",
   "execution_count": 0,
   "metadata": {
    "colab": {
     "base_uri": "https://localhost:8080/",
     "height": 68
    },
    "colab_type": "code",
    "id": "dpofujcSgjZg",
    "outputId": "f3046a17-76a2-426e-80c5-70764940d248"
   },
   "outputs": [
    {
     "name": "stdout",
     "output_type": "stream",
     "text": [
      "10000/10000 [==============================] - 0s 47us/sample - loss: 0.3363 - acc: 0.8777\n",
      "\n",
      "Validation accuracy: 0.8777\n"
     ]
    }
   ],
   "source": [
    "test_loss, test_acc = model_dnn.evaluate(test_images, test_labels)\n",
    "print('')\n",
    "print('Validation accuracy:', test_acc)"
   ]
  },
  {
   "cell_type": "code",
   "execution_count": 0,
   "metadata": {
    "colab": {
     "base_uri": "https://localhost:8080/",
     "height": 735
    },
    "colab_type": "code",
    "id": "KbtBPcdOYABV",
    "outputId": "7512784f-394e-4853-df26-22b38e264fa0"
   },
   "outputs": [
    {
     "data": {
      "image/png": "[encoded data removed]",
      "text/plain": [
       "<Figure size 576x396 with 1 Axes>"
      ]
     },
     "metadata": {
      "tags": []
     },
     "output_type": "display_data"
    },
    {
     "data": {
      "image/png": "[encoded data removed]",
      "text/plain": [
       "<Figure size 576x396 with 1 Axes>"
      ]
     },
     "metadata": {
      "tags": []
     },
     "output_type": "display_data"
    }
   ],
   "source": [
    "# Plot training & validation accuracy values\n",
    "plt.plot(history_dnn.history['acc'])\n",
    "plt.plot(history_dnn.history['val_acc'])\n",
    "plt.title('Model accuracy')\n",
    "plt.ylabel('Accuracy')\n",
    "plt.xlabel('Epoch')\n",
    "plt.legend(['Train', 'Test'], loc='upper left')\n",
    "\n",
    "plt.show()\n",
    "\n",
    "# Plot training & validation loss values\n",
    "plt.plot(history_dnn.history['loss'])\n",
    "plt.plot(history_dnn.history['val_loss'])\n",
    "plt.title('Model loss')\n",
    "plt.ylabel('Loss')\n",
    "plt.xlabel('Epoch')\n",
    "plt.legend(['Train', 'Test'], loc='upper left')\n",
    "\n",
    "plt.show()"
   ]
  },
  {
   "cell_type": "markdown",
   "metadata": {
    "colab_type": "text",
    "id": "eW1Wu1s2MWST"
   },
   "source": [
    "### Transfer Learning"
   ]
  },
  {
   "cell_type": "code",
   "execution_count": 0,
   "metadata": {
    "colab": {
     "base_uri": "https://localhost:8080/",
     "height": 122
    },
    "colab_type": "code",
    "id": "dNmnwL6yETox",
    "outputId": "f2919be6-bad5-4a69-f6f5-e892aa5450e4"
   },
   "outputs": [
    {
     "name": "stdout",
     "output_type": "stream",
     "text": [
      "WARNING:tensorflow:From /usr/local/lib/python3.6/dist-packages/tensorflow/python/ops/resource_variable_ops.py:435: colocate_with (from tensorflow.python.framework.ops) is deprecated and will be removed in a future version.\n",
      "Instructions for updating:\n",
      "Colocations handled automatically by placer.\n",
      "Downloading data from https://github.com/fchollet/deep-learning-models/releases/download/v0.5/inception_v3_weights_tf_dim_ordering_tf_kernels_notop.h5\n",
      "87916544/87910968 [==============================] - 1s 0us/step\n"
     ]
    }
   ],
   "source": [
    "# using inception\n",
    "inception = InceptionV3(weights='imagenet',include_top=False, input_shape=(299, 299, 3))"
   ]
  },
  {
   "cell_type": "code",
   "execution_count": 0,
   "metadata": {
    "colab": {},
    "colab_type": "code",
    "collapsed": true,
    "id": "TeA3vnsHTAfi"
   },
   "outputs": [],
   "source": [
    "inception.trainable = False"
   ]
  },
  {
   "cell_type": "code",
   "execution_count": 0,
   "metadata": {
    "colab": {
     "base_uri": "https://localhost:8080/",
     "height": 341
    },
    "colab_type": "code",
    "id": "2n-RXzBuETsv",
    "outputId": "030b9963-1110-4164-caa4-dde424c7cb5d"
   },
   "outputs": [
    {
     "ename": "IndexError",
     "evalue": "ignored",
     "output_type": "error",
     "traceback": [
      "\u001b[0;31m---------------------------------------------------------------------------\u001b[0m",
      "\u001b[0;31mIndexError\u001b[0m                                Traceback (most recent call last)",
      "\u001b[0;32m<ipython-input-12-9dc2afced549>\u001b[0m in \u001b[0;36m<module>\u001b[0;34m()\u001b[0m\n\u001b[1;32m     21\u001b[0m       \u001b[0mverbose\u001b[0m\u001b[0;34m=\u001b[0m\u001b[0;36m1\u001b[0m\u001b[0;34m,\u001b[0m\u001b[0;34m\u001b[0m\u001b[0;34m\u001b[0m\u001b[0m\n\u001b[1;32m     22\u001b[0m       \u001b[0mshuffle\u001b[0m\u001b[0;34m=\u001b[0m\u001b[0;32mTrue\u001b[0m\u001b[0;34m,\u001b[0m\u001b[0;34m\u001b[0m\u001b[0;34m\u001b[0m\u001b[0m\n\u001b[0;32m---> 23\u001b[0;31m       batch_size=16)\n\u001b[0m",
      "\u001b[0;32m/usr/local/lib/python3.6/dist-packages/tensorflow/python/keras/engine/training.py\u001b[0m in \u001b[0;36mfit\u001b[0;34m(self, x, y, batch_size, epochs, verbose, callbacks, validation_split, validation_data, shuffle, class_weight, sample_weight, initial_epoch, steps_per_epoch, validation_steps, max_queue_size, workers, use_multiprocessing, **kwargs)\u001b[0m\n\u001b[1;32m    774\u001b[0m         \u001b[0msteps\u001b[0m\u001b[0;34m=\u001b[0m\u001b[0msteps_per_epoch\u001b[0m\u001b[0;34m,\u001b[0m\u001b[0;34m\u001b[0m\u001b[0;34m\u001b[0m\u001b[0m\n\u001b[1;32m    775\u001b[0m         \u001b[0mvalidation_split\u001b[0m\u001b[0;34m=\u001b[0m\u001b[0mvalidation_split\u001b[0m\u001b[0;34m,\u001b[0m\u001b[0;34m\u001b[0m\u001b[0;34m\u001b[0m\u001b[0m\n\u001b[0;32m--> 776\u001b[0;31m         shuffle=shuffle)\n\u001b[0m\u001b[1;32m    777\u001b[0m \u001b[0;34m\u001b[0m\u001b[0m\n\u001b[1;32m    778\u001b[0m     \u001b[0;31m# Prepare validation data.\u001b[0m\u001b[0;34m\u001b[0m\u001b[0;34m\u001b[0m\u001b[0;34m\u001b[0m\u001b[0m\n",
      "\u001b[0;32m/usr/local/lib/python3.6/dist-packages/tensorflow/python/keras/engine/training.py\u001b[0m in \u001b[0;36m_standardize_user_data\u001b[0;34m(self, x, y, sample_weight, class_weight, batch_size, check_steps, steps_name, steps, validation_split, shuffle)\u001b[0m\n\u001b[1;32m   2419\u001b[0m           \u001b[0mshapes\u001b[0m\u001b[0;34m=\u001b[0m\u001b[0;32mNone\u001b[0m\u001b[0;34m,\u001b[0m\u001b[0;34m\u001b[0m\u001b[0;34m\u001b[0m\u001b[0m\n\u001b[1;32m   2420\u001b[0m           \u001b[0mcheck_batch_axis\u001b[0m\u001b[0;34m=\u001b[0m\u001b[0;32mFalse\u001b[0m\u001b[0;34m,\u001b[0m  \u001b[0;31m# Don't enforce the batch size.\u001b[0m\u001b[0;34m\u001b[0m\u001b[0;34m\u001b[0m\u001b[0m\n\u001b[0;32m-> 2421\u001b[0;31m           exception_prefix='target')\n\u001b[0m\u001b[1;32m   2422\u001b[0m \u001b[0;34m\u001b[0m\u001b[0m\n\u001b[1;32m   2423\u001b[0m       \u001b[0;31m# Generate sample-wise weight values given the `sample_weight` and\u001b[0m\u001b[0;34m\u001b[0m\u001b[0;34m\u001b[0m\u001b[0;34m\u001b[0m\u001b[0m\n",
      "\u001b[0;32m/usr/local/lib/python3.6/dist-packages/tensorflow/python/keras/engine/training_utils.py\u001b[0m in \u001b[0;36mstandardize_input_data\u001b[0;34m(data, names, shapes, check_batch_axis, exception_prefix)\u001b[0m\n\u001b[1;32m    297\u001b[0m                        'for each key in: ' + str(names))\n\u001b[1;32m    298\u001b[0m   \u001b[0;32melif\u001b[0m \u001b[0misinstance\u001b[0m\u001b[0;34m(\u001b[0m\u001b[0mdata\u001b[0m\u001b[0;34m,\u001b[0m \u001b[0;34m(\u001b[0m\u001b[0mlist\u001b[0m\u001b[0;34m,\u001b[0m \u001b[0mtuple\u001b[0m\u001b[0;34m)\u001b[0m\u001b[0;34m)\u001b[0m\u001b[0;34m:\u001b[0m\u001b[0;34m\u001b[0m\u001b[0;34m\u001b[0m\u001b[0m\n\u001b[0;32m--> 299\u001b[0;31m     \u001b[0;32mif\u001b[0m \u001b[0misinstance\u001b[0m\u001b[0;34m(\u001b[0m\u001b[0mdata\u001b[0m\u001b[0;34m[\u001b[0m\u001b[0;36m0\u001b[0m\u001b[0;34m]\u001b[0m\u001b[0;34m,\u001b[0m \u001b[0;34m(\u001b[0m\u001b[0mlist\u001b[0m\u001b[0;34m,\u001b[0m \u001b[0mtuple\u001b[0m\u001b[0;34m)\u001b[0m\u001b[0;34m)\u001b[0m\u001b[0;34m:\u001b[0m\u001b[0;34m\u001b[0m\u001b[0;34m\u001b[0m\u001b[0m\n\u001b[0m\u001b[1;32m    300\u001b[0m       \u001b[0mdata\u001b[0m \u001b[0;34m=\u001b[0m \u001b[0;34m[\u001b[0m\u001b[0mnp\u001b[0m\u001b[0;34m.\u001b[0m\u001b[0masarray\u001b[0m\u001b[0;34m(\u001b[0m\u001b[0md\u001b[0m\u001b[0;34m)\u001b[0m \u001b[0;32mfor\u001b[0m \u001b[0md\u001b[0m \u001b[0;32min\u001b[0m \u001b[0mdata\u001b[0m\u001b[0;34m]\u001b[0m\u001b[0;34m\u001b[0m\u001b[0;34m\u001b[0m\u001b[0m\n\u001b[1;32m    301\u001b[0m     \u001b[0;32melif\u001b[0m \u001b[0mlen\u001b[0m\u001b[0;34m(\u001b[0m\u001b[0mnames\u001b[0m\u001b[0;34m)\u001b[0m \u001b[0;34m==\u001b[0m \u001b[0;36m1\u001b[0m \u001b[0;32mand\u001b[0m \u001b[0misinstance\u001b[0m\u001b[0;34m(\u001b[0m\u001b[0mdata\u001b[0m\u001b[0;34m[\u001b[0m\u001b[0;36m0\u001b[0m\u001b[0;34m]\u001b[0m\u001b[0;34m,\u001b[0m \u001b[0;34m(\u001b[0m\u001b[0mfloat\u001b[0m\u001b[0;34m,\u001b[0m \u001b[0mint\u001b[0m\u001b[0;34m)\u001b[0m\u001b[0;34m)\u001b[0m\u001b[0;34m:\u001b[0m\u001b[0;34m\u001b[0m\u001b[0;34m\u001b[0m\u001b[0m\n",
      "\u001b[0;31mIndexError\u001b[0m: list index out of range"
     ]
    }
   ],
   "source": [
    "#reshaping the data\n",
    "X_train = X_train.reshape(X_train.shape[0], 299, 299, 3)\n",
    "\n",
    "# setting up the model\n",
    "EPOCHS = 5\n",
    "\n",
    "model_inception = Sequential()\n",
    "model_inception.add(inception)\n",
    "model_inception.add(Flatten())\n",
    "model_inception.add(Dense(256, activation='relu'))\n",
    "model_inception.add(Dense(2, activation='softmax'))\n",
    "\n",
    "model_inception.compile(loss='sparse_categorical_crossentropy',\n",
    "              optimizer='adam',\n",
    "              metrics=['accuracy']) \n",
    "                      #,auc_roc]) #potentially might want to use roc_auc for metrics\n",
    "\n",
    "history_inception = model_inception.fit(\n",
    "      X_train, y_train,\n",
    "      epochs=EPOCHS,\n",
    "      validation_split=0.1,\n",
    "      verbose=1,\n",
    "      shuffle=True,\n",
    "      batch_size=16)"
   ]
  },
  {
   "cell_type": "code",
   "execution_count": 0,
   "metadata": {
    "colab": {},
    "colab_type": "code",
    "collapsed": true,
    "id": "u77qS--XTXB9"
   },
   "outputs": [],
   "source": [
    "# inspecting ROC AUC score on hold out test dataset\n",
    "X_test = X_test.reshape(X_test.shape[0], 299, 299, 3)\n",
    "y_pred = model_inception.predict(X_test, batch_size=None)\n",
    "final_pred = []\n",
    "for point in y_pred:\n",
    "  final_pred.append(np.argmax(point))\n",
    "test_score = roc_auc_score(y_test, final_pred)\n",
    "print(test_score)"
   ]
  },
  {
   "cell_type": "code",
   "execution_count": 0,
   "metadata": {
    "colab": {},
    "colab_type": "code",
    "collapsed": true,
    "id": "m5Ck_n55TXJX"
   },
   "outputs": [],
   "source": []
  },
  {
   "cell_type": "code",
   "execution_count": 0,
   "metadata": {
    "colab": {},
    "colab_type": "code",
    "collapsed": true,
    "id": "WAd9SEHUTXNb"
   },
   "outputs": [],
   "source": []
  },
  {
   "cell_type": "code",
   "execution_count": 0,
   "metadata": {
    "colab": {},
    "colab_type": "code",
    "collapsed": true,
    "id": "4lS-Px4_TXRz"
   },
   "outputs": [],
   "source": []
  },
  {
   "cell_type": "code",
   "execution_count": 0,
   "metadata": {
    "colab": {},
    "colab_type": "code",
    "collapsed": true,
    "id": "GcRkqMRUTXGO"
   },
   "outputs": [],
   "source": []
  },
  {
   "cell_type": "markdown",
   "metadata": {
    "colab_type": "text",
    "id": "eRyN99iATYYa"
   },
   "source": [
    "## SAMPLE CODE"
   ]
  },
  {
   "cell_type": "code",
   "execution_count": 0,
   "metadata": {
    "colab": {},
    "colab_type": "code",
    "collapsed": true,
    "id": "_pUuXanl3WUg"
   },
   "outputs": [],
   "source": [
    "# Download an example slide and tumor mask\n",
    "\n",
    "# Important note: the remainder are in a Google Drive folder, linked above.\n",
    "# You will need to host them on your own, either in Google Drive, or by using\n",
    "# the cloud provider of your choice.\n",
    "\n",
    "def choose_image(image_number):\n",
    "  \n",
    "  global slide_path\n",
    "  global tumor_mask_path\n",
    "  global slide\n",
    "  global tumor_mask\n",
    "  \n",
    "  slide_path = os.path.join(SLIDES_DIR, 'tumor_'+image_number+'.tif')\n",
    "  tumor_mask_path =  os.path.join(SLIDES_DIR, 'tumor_'+image_number+'_mask.tif')\n",
    "  \n",
    "  slide = open_slide(slide_path)\n",
    "  print (\"Read WSI from %s with width: %d, height: %d\" % (slide_path, \n",
    "                                                          slide.level_dimensions[0][0], \n",
    "                                                          slide.level_dimensions[0][1]))\n",
    "\n",
    "  tumor_mask = open_slide(tumor_mask_path)\n",
    "  print (\"Read tumor mask from %s\" % (tumor_mask_path))\n",
    "\n",
    "  print(\"Slide includes %d levels\", len(slide.level_dimensions))\n",
    "\n",
    "  for i in range(len(slide.level_dimensions)-1):\n",
    "      x = slide.level_dimensions[i][0]\n",
    "      y = slide.level_dimensions[i][1]\n",
    "      \n",
    "      print(\"Level %d, dimensions: %s downsample factor %d\" % (i, \n",
    "                                                               slide.level_dimensions[i], \n",
    "                                                               slide.level_downsamples[i]))\n",
    "      assert tumor_mask.level_dimensions[i][0] == x\n",
    "      assert tumor_mask.level_dimensions[i][1] == y\n",
    "\n",
    "      downsample = 2**i\n",
    "      dim = 299.\n",
    "      \n",
    "      dat.append({'image': image_number, 'level': i, 'downsample factor': downsample, 'x': x, 'y': y, \\\n",
    "                    'max windows': int(round((x*y)/dim**2,0)-1)})\n",
    "      #Dict[temp] = (float(slide.level_dimensions[i][0]), float(slide.level_dimensions[i][1]))\n",
    "\n",
    "  # Verify downsampling works as expected\n",
    "  width, height = slide.level_dimensions[7]\n",
    "  assert width * slide.level_downsamples[7] == slide.level_dimensions[0][0]\n",
    "  assert height * slide.level_downsamples[7] == slide.level_dimensions[0][1]\n",
    "  \n",
    "  return slide_path, tumor_mask_path"
   ]
  },
  {
   "cell_type": "code",
   "execution_count": 0,
   "metadata": {
    "colab": {},
    "colab_type": "code",
    "collapsed": true,
    "id": "PhTQ5mnF3WUm"
   },
   "outputs": [],
   "source": [
    "# See https://openslide.org/api/python/#openslide.OpenSlide.read_region\n",
    "# Note: x,y coords are with respect to level 0.\n",
    "# There is an example below of working with coordinates\n",
    "# with respect to a higher zoom level.\n",
    "\n",
    "# Read a region from the slide\n",
    "# Return a numpy RBG array\n",
    "\n",
    "def read_slide(slide, x, y, level, width, height, as_float=False):\n",
    "    im = slide.read_region((x,y), level, (width, height))\n",
    "    im = im.convert('RGB') # drop the alpha channel\n",
    "    if as_float:\n",
    "        im = np.asarray(im, dtype=np.float32)\n",
    "    else:\n",
    "        im = np.asarray(im)\n",
    "    assert im.shape == (height, width, 3)\n",
    "    return im"
   ]
  },
  {
   "cell_type": "code",
   "execution_count": 0,
   "metadata": {
    "colab": {},
    "colab_type": "code",
    "collapsed": true,
    "id": "0DgO1xD-3WUp"
   },
   "outputs": [],
   "source": [
    "def zoom(i): \n",
    "  \n",
    "  slide_image = read_slide(slide, \n",
    "                         x=0, \n",
    "                         y=0, \n",
    "                         level=i, \n",
    "                         width=slide.level_dimensions[i][0], \n",
    "                         height=slide.level_dimensions[i][1])\n",
    "     \n",
    "\n",
    "  # Example: read the entire mask at the same zoom level\n",
    "  mask_image = read_slide(tumor_mask, \n",
    "                       x=0, \n",
    "                       y=0, \n",
    "                       level=i, \n",
    "                       width=tumor_mask.level_dimensions[i][0], \n",
    "                       height=tumor_mask.level_dimensions[i][1])\n",
    "\n",
    "  # Note: the program provided by the dataset authors generates a mask with R,G,B channels.\n",
    "  # The mask info we need is in the first channel only.\n",
    "  # If you skip this step, the mask will be displayed as all black.\n",
    "  mask_image = mask_image[:,:,0]\n",
    "\n",
    "  return slide_image, mask_image"
   ]
  },
  {
   "cell_type": "code",
   "execution_count": 0,
   "metadata": {
    "colab": {},
    "colab_type": "code",
    "collapsed": true,
    "id": "XPf7JRefO1Cy"
   },
   "outputs": [],
   "source": [
    "def show_slide():\n",
    "  \n",
    "  plt.figure('slide', figsize=(10,10), dpi=100)\n",
    "  plt.imshow(slide_image)\n",
    "  \n",
    "  return 'slide image'"
   ]
  },
  {
   "cell_type": "code",
   "execution_count": 0,
   "metadata": {
    "colab": {},
    "colab_type": "code",
    "collapsed": true,
    "id": "E1ofHPK3POkZ"
   },
   "outputs": [],
   "source": [
    "def show_mask():\n",
    "\n",
    "  plt.figure('mask', figsize=(10,10), dpi=100)\n",
    "  plt.imshow(mask_image, cmap='binary')\n",
    "  \n",
    "  return 'mask'"
   ]
  },
  {
   "cell_type": "code",
   "execution_count": 0,
   "metadata": {
    "colab": {},
    "colab_type": "code",
    "collapsed": true,
    "id": "N3OUlyeZGesM"
   },
   "outputs": [],
   "source": [
    "def show_overlay(a):\n",
    "  \n",
    "  plt.figure(figsize=(10,10), dpi=100)\n",
    "  plt.imshow(slide_image)\n",
    "  plt.imshow(mask_image, cmap = 'OrRd', alpha = a)\n",
    "  \n",
    "  return 'overlay'"
   ]
  },
  {
   "cell_type": "code",
   "execution_count": 0,
   "metadata": {
    "colab": {},
    "colab_type": "code",
    "collapsed": true,
    "id": "JHbF_FfX3WU3"
   },
   "outputs": [],
   "source": [
    "# As mentioned in class, we can improve efficiency by ignoring non-tissue areas \n",
    "# of the slide. We'll find these by looking for all gray regions.\n",
    "\n",
    "def find_tissue_pixels(image, intensity=0.8):\n",
    "    im_gray = rgb2gray(image)\n",
    "    assert im_gray.shape == (image.shape[0], image.shape[1])\n",
    "    indices = np.where(im_gray <= intensity)\n",
    "    return zip(indices[0], indices[1])"
   ]
  },
  {
   "cell_type": "code",
   "execution_count": 0,
   "metadata": {
    "colab": {},
    "colab_type": "code",
    "collapsed": true,
    "id": "7XBdJOqniTEm"
   },
   "outputs": [],
   "source": [
    "def apply_mask(im, mask, color=(255,0,0)):\n",
    "    masked = np.copy(im)\n",
    "    for x,y in mask: masked[x][y] = color\n",
    "    return masked"
   ]
  },
  {
   "cell_type": "markdown",
   "metadata": {
    "colab_type": "text",
    "id": "GUo7wmze0XxG"
   },
   "source": [
    "#### Workflow with image 031"
   ]
  },
  {
   "cell_type": "code",
   "execution_count": 0,
   "metadata": {
    "colab": {},
    "colab_type": "code",
    "collapsed": true,
    "id": "4KEfvQaTQj4G"
   },
   "outputs": [],
   "source": [
    "downsample = None\n",
    "dat = []\n",
    "\n",
    "choose_image('031')"
   ]
  },
  {
   "cell_type": "markdown",
   "metadata": {
    "colab_type": "text",
    "id": "MAZVTue7bbKp"
   },
   "source": [
    "Example: read the entire slide at level 5\n",
    "\n",
    "Higher zoom levels may not fit into memory. You can use the below function to extract regions from higher zoom levels without having to read the entire image into ram.\n",
    "\n",
    "Use the sliding window approach discussed in class to collect training data for your classifier. E.g., slide a window across the slide (for starters, use a zoomed in view, so you're not working with giant images). Save each window to disk as an image. To find the label for that image, check to the tissue mask to see if the same region contains cancerous cells.\n",
    "\n",
    "Important: this is tricky to get right. Carefully debug your pipeline beforetraining your model. Start with just a single image, and a relatively low zoom level."
   ]
  },
  {
   "cell_type": "code",
   "execution_count": 0,
   "metadata": {
    "colab": {},
    "colab_type": "code",
    "collapsed": true,
    "id": "S01fmFaEdpRJ"
   },
   "outputs": [],
   "source": [
    "slide_image, mask_image = zoom(5)"
   ]
  },
  {
   "cell_type": "code",
   "execution_count": 0,
   "metadata": {
    "colab": {},
    "colab_type": "code",
    "collapsed": true,
    "id": "56jUSqv0Y5yJ"
   },
   "outputs": [],
   "source": [
    "# checking dimentions\n",
    "slide_image.shape"
   ]
  },
  {
   "cell_type": "code",
   "execution_count": 0,
   "metadata": {
    "colab": {},
    "colab_type": "code",
    "collapsed": true,
    "id": "z47j56bpY9g_"
   },
   "outputs": [],
   "source": [
    "# checking dimentions\n",
    "mask_image.shape"
   ]
  },
  {
   "cell_type": "code",
   "execution_count": 0,
   "metadata": {
    "colab": {},
    "colab_type": "code",
    "collapsed": true,
    "id": "NE5KEjn_PB6j"
   },
   "outputs": [],
   "source": [
    "show_slide()"
   ]
  },
  {
   "cell_type": "code",
   "execution_count": 0,
   "metadata": {
    "colab": {},
    "colab_type": "code",
    "collapsed": true,
    "id": "RygUh7n9PhvI"
   },
   "outputs": [],
   "source": [
    "show_mask()"
   ]
  },
  {
   "cell_type": "code",
   "execution_count": 0,
   "metadata": {
    "colab": {},
    "colab_type": "code",
    "collapsed": true,
    "id": "6nZweMHR7-Ma"
   },
   "outputs": [],
   "source": [
    "show_overlay(0.6)"
   ]
  },
  {
   "cell_type": "code",
   "execution_count": 0,
   "metadata": {
    "colab": {},
    "colab_type": "code",
    "collapsed": true,
    "id": "eCDWWOtefn01"
   },
   "outputs": [],
   "source": [
    "df=pd.DataFrame(dat)\n",
    "df"
   ]
  },
  {
   "cell_type": "code",
   "execution_count": 0,
   "metadata": {
    "colab": {},
    "colab_type": "code",
    "collapsed": true,
    "id": "c6xKn6W3DChY"
   },
   "outputs": [],
   "source": [
    "df['x'][5]"
   ]
  },
  {
   "cell_type": "code",
   "execution_count": 0,
   "metadata": {
    "colab": {},
    "colab_type": "code",
    "collapsed": true,
    "id": "Witb9yS9fB1l"
   },
   "outputs": [],
   "source": [
    "#Note \"actual dim\" represents the dimensions on the slide image\n",
    "actual_dim = float(df['x'][4])\n",
    "downsample = float(df['x'][5])\n",
    "correction = (downsample/actual_dim) * int(df['downsample factor'][5])\n",
    "correction"
   ]
  },
  {
   "cell_type": "code",
   "execution_count": 0,
   "metadata": {
    "colab": {},
    "colab_type": "code",
    "collapsed": true,
    "id": "_LZnJ4C_3WUy"
   },
   "outputs": [],
   "source": [
    "# Example: extract a (cancer) region from the L7 downsampled image\n",
    "# Notice we're multiplying the x,y coordinates by the downsample factor.\n",
    "# This math can be tricky to get right, debug carefully.\n",
    "# Here, we're \"aiming\" for the top right blob in the image above.\n",
    "\n",
    "region = read_slide(tumor_mask, x=(2700*16), y=(9000*16), level=7, width=299, height=299)[:,:,0]\n",
    "plt.imshow(region)"
   ]
  },
  {
   "cell_type": "code",
   "execution_count": 0,
   "metadata": {
    "colab": {},
    "colab_type": "code",
    "collapsed": true,
    "id": "BYy_iFco-j1P"
   },
   "outputs": [],
   "source": [
    "# THIS IS THE PROPER ADJUSTMENT TO SHOW THAT 32 FILTER IS THE CORRECT ONE TO USE WITH MAX AND MIN ACCORDINGLY\n",
    "\n",
    "region = read_slide(tumor_mask, x=(1400*32), y=(4500*32), level=5, width=299, height=299)[:,:,0]\n",
    "plt.imshow(region)"
   ]
  },
  {
   "cell_type": "code",
   "execution_count": 0,
   "metadata": {
    "colab": {},
    "colab_type": "code",
    "collapsed": true,
    "id": "iGsNNeQO4eLT"
   },
   "outputs": [],
   "source": [
    "\n",
    "tissue_pixels = list(find_tissue_pixels(slide_image))\n",
    "percent_tissue = len(tissue_pixels) / float(slide_image.shape[0] * slide_image.shape[0]) * 100\n",
    "print (\"%d tissue_pixels pixels (%.1f percent of the image)\" % (len(tissue_pixels), percent_tissue)) "
   ]
  },
  {
   "cell_type": "code",
   "execution_count": 0,
   "metadata": {
    "colab": {},
    "colab_type": "code",
    "collapsed": true,
    "id": "HSqmSxr8mvd6"
   },
   "outputs": [],
   "source": [
    "mask_image.shape"
   ]
  },
  {
   "cell_type": "code",
   "execution_count": 0,
   "metadata": {
    "colab": {},
    "colab_type": "code",
    "collapsed": true,
    "id": "Z_lYiOXuiPjw"
   },
   "outputs": [],
   "source": [
    "tissue_regions = apply_mask(slide_image, tissue_pixels)\n",
    "plt.imshow(tissue_regions)"
   ]
  },
  {
   "cell_type": "code",
   "execution_count": 0,
   "metadata": {
    "colab": {},
    "colab_type": "code",
    "collapsed": true,
    "id": "2W8R0fXOnWlO"
   },
   "outputs": [],
   "source": [
    "tissue_regions.shape"
   ]
  },
  {
   "cell_type": "markdown",
   "metadata": {
    "colab_type": "text",
    "id": "x-RorUsWCE7_"
   },
   "source": [
    "## The following is an mvp for creating training data from a single slide, at zoom level 5"
   ]
  },
  {
   "cell_type": "code",
   "execution_count": 0,
   "metadata": {
    "colab": {},
    "colab_type": "code",
    "collapsed": true,
    "id": "ggm8Ifols6Ov"
   },
   "outputs": [],
   "source": [
    "# x dimensions from 0 to 500 are slide artifacts\n",
    "#500./x_max\n",
    "#y dimensions from 0 to ~1000 are slide artifacts\n",
    "#1000./y_max"
   ]
  },
  {
   "cell_type": "markdown",
   "metadata": {
    "colab_type": "text",
    "id": "j1T8Dz88zqqp"
   },
   "source": [
    "#### Create training data - sliding window pseudocode\n",
    "\n",
    "for window in image:\n",
    "\n",
    "\tif window contains tissue:\n",
    "\t\tappend window to train_set\n",
    "\n",
    "\t\tif window contains cancer:\n",
    "\t\t\tlabel = 1\n",
    "\t\telse:\n",
    "\t\t\tlabel = 0"
   ]
  },
  {
   "cell_type": "code",
   "execution_count": 0,
   "metadata": {
    "colab": {},
    "colab_type": "code",
    "collapsed": true,
    "id": "6ZbSJVdK0FQP"
   },
   "outputs": [],
   "source": [
    "def is_tissue_in_window(window, intensity=0.8):\n",
    "  im_gray = rgb2gray(window)\n",
    "  x_indices = np.where(im_gray <= intensity)[0]\n",
    "  return len(x_indices) > 0"
   ]
  },
  {
   "cell_type": "code",
   "execution_count": 0,
   "metadata": {
    "colab": {},
    "colab_type": "code",
    "collapsed": true,
    "id": "KAjDZyBLr_0l"
   },
   "outputs": [],
   "source": [
    "#MVP with zoom level 5\n",
    "train = []\n",
    "labels = []\n",
    "masks = []\n",
    "\n",
    "#dimensions at level 5\n",
    "x_max = slide.level_dimensions[5][0]\n",
    "y_max = slide.level_dimensions[5][1] \n",
    "\n",
    "#create padding to avoid silde edges.. empirically, 15% seemed reasonable\n",
    "x0 = 0 #int(.05*x_max) # changed to 5%\n",
    "y0 = 0 #int(.05*y_max) # changed to 5%\n",
    "\n",
    "#size of window\n",
    "x_dim, y_dim = 299., 299.\n",
    "size = (int(x_dim), int(y_dim))\n",
    "\n",
    "#level\n",
    "L = int(5)\n",
    "\n",
    "# calculate how many steps we can take with 299x299 window\n",
    "x_steps, y_steps = int(((x_max-x0) / x_dim)-1), int(((y_max-y0) / y_dim)-1)\n",
    "\n",
    "#from above, 'correction' factor for relating dimensions back to visual indications\n",
    "#this correction factor is invariant for the zoom level, assuming we adjust x_max, y_max as defined above to specific level of interest\n",
    "#x0 = x0*16 #I think we were wrong in our correction factor\n",
    "#y0 = y0*16 #I think we were wrong in our correction factor       \n",
    "\n",
    "for i in range(x_steps):\n",
    "    for j in range(y_steps): \n",
    "        #location = (int(x0)*16, int(y0)*16) # just added\n",
    "        # generating a window from the original slide\n",
    "        window = read_slide(slide, \n",
    "                         x=int(x0)*32, \n",
    "                         y=int(y0)*32, \n",
    "                         level=L, \n",
    "                         width=299, \n",
    "                         height=299)\n",
    "                         #as_float=True)\n",
    "        #window = slide.read_region(location, L, size) \n",
    "        #window = window.convert('RGB')\n",
    "        #window = np.asarray(window)\n",
    "        assert window.shape == (x_dim, y_dim, 3)\n",
    "\n",
    "        #If window contains tissue, append to train\n",
    "        if is_tissue_in_window(window) is True:\n",
    "            #continue # No tissue in this window, don't add to train or test\n",
    "            train.append(window)\n",
    "            # read the tumor mask view that corresponds to the window\n",
    "            window_mask = read_slide(tumor_mask, \n",
    "                             x=int(x0)*32, \n",
    "                             y=int(y0)*32, \n",
    "                             level=L, \n",
    "                             width=299, \n",
    "                             height=299)[:,:,0]\n",
    "            #window_mask = tumor_mask.read_region(location, L, size)\n",
    "            #window_mask = window_mask.convert('RGB')\n",
    "            #window_mask = np.asarray(window_mask)[:,:,0]\n",
    "            masks.append(window_mask)\n",
    "\n",
    "            #if window contains cancer, append 1 to labels; else 0\n",
    "            if np.count_nonzero(window_mask.flatten()) > 0: # check with team if there is a better way to check pixels\n",
    "                labels.append(1)\n",
    "            else:\n",
    "                labels.append(0)\n",
    "\n",
    "        y0 = y0 + y_dim # changed the sliding direction to adjust for correction factor\n",
    "    x0 = x0 + x_dim # changed the sliding direction to adjust for correction factor\n",
    "    y0 = 0 #int(.05*y_max) # need to reset y0 to start\n"
   ]
  },
  {
   "cell_type": "code",
   "execution_count": 0,
   "metadata": {
    "colab": {},
    "colab_type": "code",
    "collapsed": true,
    "id": "WAJgAi-F5_nE"
   },
   "outputs": [],
   "source": [
    "# After adding filter for windows with tissue\n",
    "print(\"Remaining number of windows after tissue drop: {}, Total number of windows: {} \".format(len(train), x_steps*y_steps))"
   ]
  },
  {
   "cell_type": "code",
   "execution_count": 0,
   "metadata": {
    "colab": {},
    "colab_type": "code",
    "collapsed": true,
    "id": "rPxx_0vw5RPr"
   },
   "outputs": [],
   "source": [
    "# checking the shape\n",
    "train[0].shape"
   ]
  },
  {
   "cell_type": "code",
   "execution_count": 0,
   "metadata": {
    "colab": {},
    "colab_type": "code",
    "collapsed": true,
    "id": "sL2hluleErro"
   },
   "outputs": [],
   "source": [
    "# looking into the number of cancer labels generated\n",
    "sum(labels)"
   ]
  },
  {
   "cell_type": "code",
   "execution_count": 0,
   "metadata": {
    "colab": {},
    "colab_type": "code",
    "collapsed": true,
    "id": "GZ2gHuwIIHp4"
   },
   "outputs": [],
   "source": [
    "# checking labels length\n",
    "assert len(labels) == len(train)"
   ]
  },
  {
   "cell_type": "markdown",
   "metadata": {
    "colab_type": "text",
    "id": "m_T-Ov5SEdQb"
   },
   "source": [
    "Visualizing the windows to see that the movement has been captured! Looks like it slides perfectly now!"
   ]
  },
  {
   "cell_type": "code",
   "execution_count": 0,
   "metadata": {
    "colab": {},
    "colab_type": "code",
    "collapsed": true,
    "id": "rEvRDh7IV3hx"
   },
   "outputs": [],
   "source": [
    "# check if the windows actually move properly\n",
    "plt.imshow(train[10])"
   ]
  },
  {
   "cell_type": "code",
   "execution_count": 0,
   "metadata": {
    "colab": {},
    "colab_type": "code",
    "collapsed": true,
    "id": "cYmLTrIoZiFN"
   },
   "outputs": [],
   "source": [
    "plt.imshow(train[11])"
   ]
  },
  {
   "cell_type": "markdown",
   "metadata": {
    "colab_type": "text",
    "id": "BsvK4MRuEX-q"
   },
   "source": [
    "As a sanity check, visualizing all the picked up windows with cancer to see that it makes sense!"
   ]
  },
  {
   "cell_type": "code",
   "execution_count": 0,
   "metadata": {
    "colab": {},
    "colab_type": "code",
    "collapsed": true,
    "id": "OFmPgM7cOnJe"
   },
   "outputs": [],
   "source": [
    "pos_labels = np.argsort(labels)[-9:]\n",
    "plt.imshow(masks[pos_labels[0]])"
   ]
  },
  {
   "cell_type": "code",
   "execution_count": 0,
   "metadata": {
    "colab": {},
    "colab_type": "code",
    "collapsed": true,
    "id": "IkOXe_XJiHMD"
   },
   "outputs": [],
   "source": [
    "plt.imshow(masks[pos_labels[1]])"
   ]
  },
  {
   "cell_type": "code",
   "execution_count": 0,
   "metadata": {
    "colab": {},
    "colab_type": "code",
    "collapsed": true,
    "id": "LDSt4GsHEFsJ"
   },
   "outputs": [],
   "source": [
    "plt.imshow(masks[pos_labels[2]])"
   ]
  },
  {
   "cell_type": "code",
   "execution_count": 0,
   "metadata": {
    "colab": {},
    "colab_type": "code",
    "collapsed": true,
    "id": "0jg8JSQoEGz1"
   },
   "outputs": [],
   "source": [
    "plt.imshow(masks[pos_labels[3]])"
   ]
  },
  {
   "cell_type": "code",
   "execution_count": 0,
   "metadata": {
    "colab": {},
    "colab_type": "code",
    "collapsed": true,
    "id": "y7AEnIrqEHvC"
   },
   "outputs": [],
   "source": [
    "plt.imshow(masks[pos_labels[4]])"
   ]
  },
  {
   "cell_type": "code",
   "execution_count": 0,
   "metadata": {
    "colab": {},
    "colab_type": "code",
    "collapsed": true,
    "id": "zcniURaAEIzl"
   },
   "outputs": [],
   "source": [
    "plt.imshow(masks[pos_labels[5]])"
   ]
  },
  {
   "cell_type": "code",
   "execution_count": 0,
   "metadata": {
    "colab": {},
    "colab_type": "code",
    "collapsed": true,
    "id": "Fmsw41xXEJt3"
   },
   "outputs": [],
   "source": [
    "plt.imshow(masks[pos_labels[6]])"
   ]
  },
  {
   "cell_type": "code",
   "execution_count": 0,
   "metadata": {
    "colab": {},
    "colab_type": "code",
    "collapsed": true,
    "id": "ru6NhjjlEK1A"
   },
   "outputs": [],
   "source": [
    "plt.imshow(masks[pos_labels[7]])"
   ]
  },
  {
   "cell_type": "code",
   "execution_count": 0,
   "metadata": {
    "colab": {},
    "colab_type": "code",
    "collapsed": true,
    "id": "AXjdmMnXEL8I"
   },
   "outputs": [],
   "source": [
    "plt.imshow(masks[pos_labels[8]])"
   ]
  },
  {
   "cell_type": "code",
   "execution_count": 0,
   "metadata": {
    "colab": {},
    "colab_type": "code",
    "collapsed": true,
    "id": "mojWnUFvEOPT"
   },
   "outputs": [],
   "source": []
  }
 ],
 "metadata": {
  "colab": {
   "collapsed_sections": [],
   "name": "ADL_Final_Project.ipynb",
   "provenance": [],
   "version": "0.3.2"
  },
  "kernelspec": {
   "display_name": "Python 3",
   "language": "python",
   "name": "python3"
  },
  "language_info": {
   "codemirror_mode": {
    "name": "ipython",
    "version": 3
   },
   "file_extension": ".py",
   "mimetype": "text/x-python",
   "name": "python",
   "nbconvert_exporter": "python",
   "pygments_lexer": "ipython3",
   "version": "3.6.2"
  }
 },
 "nbformat": 4,
 "nbformat_minor": 1
}
